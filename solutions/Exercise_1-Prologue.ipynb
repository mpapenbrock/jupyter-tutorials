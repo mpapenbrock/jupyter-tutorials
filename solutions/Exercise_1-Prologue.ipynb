{
 "cells": [
  {
   "cell_type": "markdown",
   "metadata": {},
   "source": [
    "This first exercise will show you the basic concepts of how to write and execute C/C++ code in a Jupyter environment."
   ]
  },
  {
   "cell_type": "markdown",
   "metadata": {},
   "source": [
    "First, let's have a look at a simple \"hello world\" program:"
   ]
  },
  {
   "cell_type": "code",
   "execution_count": 2,
   "metadata": {},
   "outputs": [
    {
     "name": "stdout",
     "output_type": "stream",
     "text": [
      "hello world!\n"
     ]
    }
   ],
   "source": [
    "auto hello = \"hello world!\";\n",
    "std::cout << hello << std::endl;"
   ]
  },
  {
   "cell_type": "markdown",
   "metadata": {},
   "source": [
    "If you are unfamiliar with C/C++, the following resources will help you get started:\n",
    "\n",
    "http://en.cppreference.com/w/ - A reference page for C/C++; great for looking up everything related to standard C++ on the fly!\n",
    "\n",
    "https://en.wikibooks.org/wiki/C%2B%2B_Programming - If you want to go a bit deeper and learn the language from ground up, this wikibooks entry is a good place to start."
   ]
  },
  {
   "cell_type": "markdown",
   "metadata": {},
   "source": [
    "As your first exercise, calculate the area of rectangle with a length of 3m and a width of 4.5m. Print out the result!"
   ]
  },
  {
   "cell_type": "code",
   "execution_count": 1,
   "metadata": {},
   "outputs": [
    {
     "name": "stdout",
     "output_type": "stream",
     "text": [
      "The area of the rectangle is 13.5 m^2\n"
     ]
    }
   ],
   "source": [
    "auto length = 3.;\n",
    "auto width = 4.5;\n",
    "auto area = length * width;\n",
    "\n",
    "std::cout << \"The area of the rectangle is \" << area << \" m^2\" << std::endl;"
   ]
  },
  {
   "cell_type": "code",
   "execution_count": null,
   "metadata": {
    "collapsed": true
   },
   "outputs": [],
   "source": []
  }
 ],
 "metadata": {
  "kernelspec": {
   "display_name": "ROOT C++",
   "language": "c++",
   "name": "root"
  },
  "language_info": {
   "codemirror_mode": "text/x-c++src",
   "file_extension": ".C",
   "mimetype": " text/x-c++src",
   "name": "c++"
  }
 },
 "nbformat": 4,
 "nbformat_minor": 2
}

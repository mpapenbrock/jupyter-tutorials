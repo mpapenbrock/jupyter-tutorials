{
 "cells": [
  {
   "cell_type": "markdown",
   "metadata": {},
   "source": [
    "In this exercise, we want to cover some of the basics of C/C++."
   ]
  },
  {
   "cell_type": "markdown",
   "metadata": {},
   "source": [
    "First, write a function that returns the Fibonacci number of the \"n\"th iteration. As reminder looks like this:\n",
    "$$F_n = F_{n-1} + F_{n-2}$$\n",
    "\n",
    "Use the seed values $$F_0 = 0, F_1 = 1$$"
   ]
  },
  {
   "cell_type": "code",
   "execution_count": 1,
   "metadata": {
    "collapsed": true
   },
   "outputs": [],
   "source": [
    "// function that returns the fibonacci number for the \"n\"th iteration\n",
    "// Hint: You can call this function recursively\n",
    "int fibonacci(int n) \n",
    "{\n",
    "    int t0 = 0;\n",
    "    int t1 = 1;\n",
    "    \n",
    "    if (n < 1) return t0;\n",
    "    if (n == 1) return t1;\n",
    "    \n",
    "    t0 = fibonacci(n-2);\n",
    "    t1 = fibonacci(n-1);\n",
    "    \n",
    "    return t0+t1;\n",
    "}"
   ]
  },
  {
   "cell_type": "markdown",
   "metadata": {},
   "source": [
    "C/C++ offers a variety of containers to store a list of variable. First, let's have a look at the very basic C array.\n",
    "Use the fibonacci function to fill an array with the first 10 numbers. Print the contents of the array."
   ]
  },
  {
   "cell_type": "code",
   "execution_count": 2,
   "metadata": {},
   "outputs": [
    {
     "name": "stdout",
     "output_type": "stream",
     "text": [
      "0 1 1 2 3 5 8 13 21 34 \n"
     ]
    }
   ],
   "source": [
    "int fibArray[10];\n",
    "\n",
    "for (int i = 0; i < 10; i++)\n",
    "{\n",
    "    fibArray[i] = fibonacci(i);\n",
    "}\n",
    "for (auto const& value: fibArray)\n",
    "{\n",
    "    std::cout << value << \" \";\n",
    "}\n",
    "std::cout << \"\\n\";"
   ]
  },
  {
   "cell_type": "markdown",
   "metadata": {},
   "source": [
    "C++ offers many more advanced containers. The one that you will likely see the most often is the std::vector, to which you can dynamically allocate to elements when you don't know how many entries you will end up with.\n",
    "Use the fibonacci function to fill a std::vector with all the elements smaller than 100. Print the contents of the std::vector."
   ]
  },
  {
   "cell_type": "code",
   "execution_count": 3,
   "metadata": {},
   "outputs": [
    {
     "name": "stdout",
     "output_type": "stream",
     "text": [
      "0 1 1 2 3 5 8 13 21 34 55 89 \n"
     ]
    }
   ],
   "source": [
    "std::vector<int> fibVector;\n",
    "int i = 0;\n",
    "\n",
    "while (fibonacci(i) < 100)\n",
    "{\n",
    "    fibVector.push_back(fibonacci(i));\n",
    "    i++;\n",
    "}\n",
    "for (auto const& value: fibVector)\n",
    "{\n",
    "    std::cout << value << \" \";\n",
    "}\n",
    "std::cout << \"\\n\";"
   ]
  },
  {
   "cell_type": "code",
   "execution_count": null,
   "metadata": {
    "collapsed": true
   },
   "outputs": [],
   "source": []
  }
 ],
 "metadata": {
  "kernelspec": {
   "display_name": "ROOT C++",
   "language": "c++",
   "name": "root"
  },
  "language_info": {
   "codemirror_mode": "text/x-c++src",
   "file_extension": ".C",
   "mimetype": " text/x-c++src",
   "name": "c++"
  }
 },
 "nbformat": 4,
 "nbformat_minor": 2
}

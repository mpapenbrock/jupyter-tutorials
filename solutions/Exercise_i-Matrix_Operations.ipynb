{
 "cells": [
  {
   "cell_type": "markdown",
   "metadata": {},
   "source": [
    "In this exercise we are going to perform a few simple matrix operations."
   ]
  },
  {
   "cell_type": "code",
   "execution_count": 1,
   "metadata": {},
   "outputs": [
    {
     "name": "stdout",
     "output_type": "stream",
     "text": [
      "\n",
      "3x3 matrix is as follows\n",
      "\n",
      "     |      0    |      1    |      2    |\n",
      "--------------------------------------------\n",
      "   0 |          1           0           0 \n",
      "   1 |          0           2           0 \n",
      "   2 |          0           0           3 \n",
      "\n"
     ]
    }
   ],
   "source": [
    "TMatrixF a(3,3);\n",
    "a[0][0] = 1.; a[0][1] = 0.; a[0][2] = 0.;\n",
    "a[1][0] = 0.; a[1][1] = 2.; a[1][2] = 0.;\n",
    "a[2][0] = 0.; a[2][1] = 0.; a[2][2] = 3.;\n",
    "\n",
    "a.Print();"
   ]
  },
  {
   "cell_type": "markdown",
   "metadata": {},
   "source": [
    "Create the inverted matrix of \"a\" and print it out."
   ]
  },
  {
   "cell_type": "code",
   "execution_count": 2,
   "metadata": {},
   "outputs": [
    {
     "name": "stdout",
     "output_type": "stream",
     "text": [
      "\n",
      "3x3 matrix is as follows\n",
      "\n",
      "     |      0    |      1    |      2    |\n",
      "--------------------------------------------\n",
      "   0 |          1          -0          -0 \n",
      "   1 |          0         0.5          -0 \n",
      "   2 |          0           0      0.3333 \n",
      "\n"
     ]
    }
   ],
   "source": [
    "auto aInv = a;\n",
    "aInv.Invert();\n",
    "aInv.Print();"
   ]
  },
  {
   "cell_type": "markdown",
   "metadata": {},
   "source": [
    "Multiply the two matrices and print the result."
   ]
  },
  {
   "cell_type": "code",
   "execution_count": 3,
   "metadata": {},
   "outputs": [
    {
     "name": "stdout",
     "output_type": "stream",
     "text": [
      "\n",
      "3x3 matrix is as follows\n",
      "\n",
      "     |      0    |      1    |      2    |\n",
      "--------------------------------------------\n",
      "   0 |          1           0           0 \n",
      "   1 |          0           1           0 \n",
      "   2 |          0           0           1 \n",
      "\n"
     ]
    }
   ],
   "source": [
    "auto mult = a * aInv;\n",
    "mult.Print();"
   ]
  },
  {
   "cell_type": "markdown",
   "metadata": {},
   "source": [
    "Produce a matrix with randomised element values."
   ]
  },
  {
   "cell_type": "code",
   "execution_count": 4,
   "metadata": {},
   "outputs": [
    {
     "name": "stdout",
     "output_type": "stream",
     "text": [
      "\n",
      "3x3 matrix is as follows\n",
      "\n",
      "     |      0    |      1    |      2    |\n",
      "--------------------------------------------\n",
      "   0 |      4.997      -3.371      -2.174 \n",
      "   1 |      4.472      -2.683     -0.1503 \n",
      "   2 |      4.575       2.443      0.4004 \n",
      "\n"
     ]
    }
   ],
   "source": [
    "TMatrixF rnd(3,3);\n",
    "\n",
    "for (int iRow = 0; iRow < 3; ++iRow) {\n",
    "    for (int iCol = 0; iCol < 3; ++iCol) {\n",
    "        rnd[iRow][iCol] = gRandom->Uniform(-5.,5.);\n",
    "    }\n",
    "}\n",
    "\n",
    "rnd.Print();"
   ]
  },
  {
   "cell_type": "markdown",
   "metadata": {},
   "source": [
    "Now do something else..."
   ]
  },
  {
   "cell_type": "code",
   "execution_count": 5,
   "metadata": {},
   "outputs": [
    {
     "name": "stdout",
     "output_type": "stream",
     "text": [
      "\n",
      "2x2 matrix is as follows\n",
      "\n",
      "     |      0    |      1    |\n",
      "-------------------------------\n",
      "   0 |        2.7     -0.9041 \n",
      "   1 |     0.4274        7.29 \n",
      "\n"
     ]
    }
   ],
   "source": [
    "TMatrixF b(2,2);\n",
    "\n",
    "auto x_ = 2.7;\n",
    "auto x = [x_](){return x_;};\n",
    "auto cosx = [x_](){return cos(x_);};\n",
    "auto sinx = [x_](){return sin(x_);};\n",
    "auto x2 = [x_](){return x_*x_;};\n",
    "\n",
    "b[0][0] = x(); b[0][1] = cosx(); \n",
    "b[1][0] = sinx(); b[1][1] = x2(); \n",
    "\n",
    "b.Print();"
   ]
  },
  {
   "cell_type": "code",
   "execution_count": null,
   "metadata": {
    "collapsed": true
   },
   "outputs": [],
   "source": []
  }
 ],
 "metadata": {
  "kernelspec": {
   "display_name": "ROOT C++",
   "language": "c++",
   "name": "root"
  },
  "language_info": {
   "codemirror_mode": "text/x-c++src",
   "file_extension": ".C",
   "mimetype": " text/x-c++src",
   "name": "c++"
  }
 },
 "nbformat": 4,
 "nbformat_minor": 2
}

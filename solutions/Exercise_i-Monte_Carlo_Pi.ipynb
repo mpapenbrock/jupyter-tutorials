{
 "cells": [
  {
   "cell_type": "markdown",
   "metadata": {},
   "source": [
    "In this exercise we are going to calculate $\\pi$ by using Monte Carlo methods. Assume we have a circle centered inside a square. The circle has a radius $r$ while the square has a side length of $2r$. Now imagine you throw $N$ darts as computed by random numbers evenly distributed over the area of the square. All of the darts will hit the square, but only subset will hit the circle. Your tasks will be the following:\n",
    "\n",
    "1. Write down how $\\pi$ relates to ratio of the areas of the circle and the square.\n",
    "2. Write down the probabilities for a dart landing in the circle or in the square, respectively. Express the ratio in terms of $N$.\n",
    "3. Write a program that determines $\\pi$ for $N$ \"dart throws\" aka trials following the method described above. Plot $\\pi$ as a function of $N$.\n",
    "\n",
    "Bonus objective: Create a plot to visualise what your program is doing."
   ]
  },
  {
   "cell_type": "code",
   "execution_count": 1,
   "metadata": {},
   "outputs": [
    {
     "name": "stdout",
     "output_type": "stream",
     "text": [
      "10000000 trials, pi is 3.14146 in 0.390174 seconds\n"
     ]
    }
   ],
   "source": [
    "//gRandom = new TRandom(); // BAD generator, period 10**9\n",
    "//gRandom = new TRandom1(); // RANLUX, period 10**171\n",
    "//gRandom = new TRandom2(); // Tausworthe period 10**26 (but fast)\n",
    "//gRandom = new TRandom3(); // \"Mersenne Twister generator\", period 10**6000, recommended\n",
    "\n",
    "static long num_trials = 10000000;\n",
    "\n",
    "long Ncirc = 0;\n",
    "double pi, x, y, test;\n",
    "double r = 1.0; // radius of the circle\n",
    "\n",
    "auto start_time = std::chrono::high_resolution_clock::now();\n",
    "for (int i = 0; i < num_trials; i++) {\n",
    "    x = gRandom->Uniform(-r,r);\n",
    "    y = gRandom->Uniform(-r,r);\n",
    "    \n",
    "    test = x*x + y*y;\n",
    "    \n",
    "    if (test <= r*r) Ncirc++;\n",
    "}\n",
    "\n",
    "pi = 4.0 * ((double)Ncirc / (double)num_trials);\n",
    "auto stop_time = std::chrono::high_resolution_clock::now();\n",
    "auto duration = chrono::duration<double>(stop_time - start_time);\n",
    "\n",
    "std::cout << num_trials << \" trials, pi is \" << pi;\n",
    "std::cout << \" in \" << duration.count() << \" seconds\" << std::endl;"
   ]
  },
  {
   "cell_type": "code",
   "execution_count": null,
   "metadata": {
    "collapsed": true
   },
   "outputs": [],
   "source": []
  }
 ],
 "metadata": {
  "kernelspec": {
   "display_name": "ROOT C++",
   "language": "c++",
   "name": "root"
  },
  "language_info": {
   "codemirror_mode": "text/x-c++src",
   "file_extension": ".C",
   "mimetype": " text/x-c++src",
   "name": "c++"
  }
 },
 "nbformat": 4,
 "nbformat_minor": 2
}

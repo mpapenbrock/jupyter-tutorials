{
 "cells": [
  {
   "cell_type": "markdown",
   "metadata": {},
   "source": [
    "In this exercise, we want to cover some of the basics of C/C++."
   ]
  },
  {
   "cell_type": "markdown",
   "metadata": {},
   "source": [
    "First, write a function that returns the Fibonacci number of the \"n\"th iteration. As reminder looks like this:\n",
    "$$F_n = F_{n-1} + F_{n-2}$$\n",
    "\n",
    "Use the seed values $$F_0 = 0, F_1 = 1$$"
   ]
  },
  {
   "cell_type": "code",
   "execution_count": null,
   "metadata": {
    "collapsed": true
   },
   "outputs": [],
   "source": [
    "// function that returns the fibonacci number for the \"n\"th iteration\n",
    "// Hint: You can call this function recursively\n",
    "int fibonacci(int n) \n",
    "{\n",
    "    // put your code here\n",
    "}"
   ]
  },
  {
   "cell_type": "markdown",
   "metadata": {},
   "source": [
    "C/C++ offers a variety of containers to store a list of variable. First, let's have a look at the very basic C array.\n",
    "Use the fibonacci function to fill an array with the first 10 numbers. Print the contents of the array."
   ]
  },
  {
   "cell_type": "code",
   "execution_count": null,
   "metadata": {},
   "outputs": [],
   "source": [
    "int fibArray[10];\n",
    "\n",
    "// put your code here"
   ]
  },
  {
   "cell_type": "markdown",
   "metadata": {},
   "source": [
    "C++ offers many more advanced containers. The one that you will likely see the most often is the std::vector, to which you can dynamically allocate to elements when you don't know how many entries you will end up with.\n",
    "Use the fibonacci function to fill a std::vector with all the elements smaller than 100. Print the contents of the std::vector."
   ]
  },
  {
   "cell_type": "code",
   "execution_count": null,
   "metadata": {},
   "outputs": [],
   "source": [
    "std::vector<int> fibVector;\n",
    "\n",
    "// put your code here"
   ]
  }
 ],
 "metadata": {
  "kernelspec": {
   "display_name": "ROOT C++",
   "language": "c++",
   "name": "root"
  },
  "language_info": {
   "codemirror_mode": "text/x-c++src",
   "file_extension": ".C",
   "mimetype": " text/x-c++src",
   "name": "c++"
  }
 },
 "nbformat": 4,
 "nbformat_minor": 2
}

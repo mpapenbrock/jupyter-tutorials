{
 "cells": [
  {
   "cell_type": "markdown",
   "metadata": {},
   "source": [
    "Now, we want to get to something a little more advanced and plot a Gaussian distribution. To do so, we use a software framework very common in high energy physics, namely ROOT. You can find a lot information about this package on its homepage (http://root.cern.ch), including User's and reference guides."
   ]
  },
  {
   "cell_type": "code",
   "execution_count": null,
   "metadata": {
    "scrolled": false
   },
   "outputs": [],
   "source": [
    "TF1 f1(\"f1\",\"TMath::Gaus(x,[0],[1])\",-5.,5.);\n",
    "f1.SetParameters(0,1);\n",
    "TH1F hgaus(\"gaus\",\"gaussian distribution\",100,-3.,3.);\n",
    "hgaus.FillRandom(\"f1\",10000);\n",
    "TCanvas can;\n",
    "hgaus.Draw();\n",
    "can.Draw();"
   ]
  },
  {
   "cell_type": "markdown",
   "metadata": {},
   "source": [
    "This little example already makes use of a few different ROOT classes.\n",
    "- The TF1 class is used to create a function that is later used to determine the shape of the distribution. The parameters in the second line correspond to the mean and sigma of the gaussian. https://root.cern.ch/doc/v610/classTF1.html\n",
    "- The TF1F class creates the histogram object with a specified number of bins as well as minimum and maximum values for the x-axis. Here it is filled with 10000 random entries following the shape of the function we defined earlier. Alternatively, we could have called 'hgaus.FillRandom(\"gaus\",10000);'. https://root.cern.ch/doc/v610/classTH1.html\n",
    "- The TCanvas is created to have a space in which to draw the histogram. https://root.cern.ch/doc/v610/classTCanvas.html"
   ]
  },
  {
   "cell_type": "markdown",
   "metadata": {
    "collapsed": true
   },
   "source": [
    "Next, fit the histogram you just created with the gaussian function. You can find documentation for this procedure here: https://root.cern.ch/root/htmldoc/guides/users-guide/ROOTUsersGuide.html#fitting-histograms"
   ]
  },
  {
   "cell_type": "code",
   "execution_count": null,
   "metadata": {
    "scrolled": false
   },
   "outputs": [],
   "source": [
    "// put your code here\n",
    "// you can continue using the objects you have created above\n"
   ]
  },
  {
   "cell_type": "markdown",
   "metadata": {},
   "source": [
    "Generate a uniform distribution and plot it along with the gaussian distribution in the same canvas."
   ]
  },
  {
   "cell_type": "code",
   "execution_count": null,
   "metadata": {},
   "outputs": [],
   "source": [
    "// put your code here"
   ]
  },
  {
   "cell_type": "markdown",
   "metadata": {},
   "source": [
    "As a default, ROOT displays histograms as a bar chart. Plot the histograms above in a way that statistical uncertainties are shown. Use red markers for the uniform distribution and blue ones for the gaussian. Further help can be found here:\n",
    "\n",
    "https://root.cern.ch/root/htmldoc/guides/users-guide/ROOTUsersGuide.html#histograms\n",
    "\n",
    "https://root.cern.ch/doc/v610/classTH1.html"
   ]
  },
  {
   "cell_type": "code",
   "execution_count": null,
   "metadata": {},
   "outputs": [],
   "source": [
    "// put your code here"
   ]
  },
  {
   "cell_type": "markdown",
   "metadata": {},
   "source": [
    "Change the bin width of the histograms so the the uncertainty per bin becomes smaller."
   ]
  },
  {
   "cell_type": "code",
   "execution_count": null,
   "metadata": {},
   "outputs": [],
   "source": [
    "// put your code here"
   ]
  },
  {
   "cell_type": "markdown",
   "metadata": {},
   "source": [
    "Create a new histogram containing the sum of the uniform and the gaussian distribution and plot it. Make sure that the y-axis starts at 0!"
   ]
  },
  {
   "cell_type": "code",
   "execution_count": null,
   "metadata": {},
   "outputs": [],
   "source": [
    "// put your code here"
   ]
  }
 ],
 "metadata": {
  "kernelspec": {
   "display_name": "ROOT C++",
   "language": "c++",
   "name": "root"
  },
  "language_info": {
   "codemirror_mode": "text/x-c++src",
   "file_extension": ".C",
   "mimetype": " text/x-c++src",
   "name": "c++"
  }
 },
 "nbformat": 4,
 "nbformat_minor": 2
}

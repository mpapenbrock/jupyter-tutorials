{
 "cells": [
  {
   "cell_type": "markdown",
   "metadata": {},
   "source": [
    "Welcome to the root introduction for new students! Please have a look into the ROOT user's guide for all details:\n",
    "https://root.cern.ch/guides/users-guide\n",
    "\n",
    "But of course you can not read all of it or go through all of the examples! However, I will point you to some exercises which I think could be useful for you.\n",
    "\n",
    "Let's start with Hello World..."
   ]
  },
  {
   "cell_type": "code",
   "execution_count": 1,
   "metadata": {
    "collapsed": false
   },
   "outputs": [
    {
     "name": "stdout",
     "output_type": "stream",
     "text": [
      "Hello World!\n",
      "Happy new 2017!\n"
     ]
    }
   ],
   "source": [
    "cout << \"Hello World!\"<<endl;\n",
    "int year = 2017;\n",
    "cout << \"Happy new \" << year << \"!\" <<endl;"
   ]
  },
  {
   "cell_type": "markdown",
   "metadata": {},
   "source": [
    "OK, that was easy. \n",
    "Something you will come across a lot is gaussian distributions. \n",
    "Now let's generate a Gaussian distribution and plot it.\n",
    "References: \n",
    "\n",
    "1) https://root.cern.ch/root/htmldoc/guides/users-guide/ROOTUsersGuide.html#creating-histograms \n",
    "\n",
    "2) https://root.cern.ch/root/htmldoc/guides/users-guide/ROOTUsersGuide.html#grandom"
   ]
  },
  {
   "cell_type": "code",
   "execution_count": 2,
   "metadata": {
    "collapsed": false
   },
   "outputs": [
    {
     "data": {
      "image/png": "[encoded data removed]",
      "text/plain": [
       "<IPython.core.display.Image object>"
      ]
     },
     "metadata": {},
     "output_type": "display_data"
    }
   ],
   "source": [
    "gRandom = new TRandom3();\n",
    "TH1D *hGaus = new TH1D(\"Gaus\",\"Gaus\",100,-10,10);\n",
    "for (int iEntry = 0; iEntry < 100000; iEntry++) {\n",
    "    Double_t value = gRandom->Gaus();\n",
    "    hGaus->Fill(value);\n",
    "}\n",
    "TCanvas *can = new TCanvas();\n",
    "hGaus->Draw();\n",
    "can->Draw();"
   ]
  },
  {
   "cell_type": "markdown",
   "metadata": {
    "collapsed": true
   },
   "source": [
    "Now it is time for you to generate a gaussian distribution yourself - this time with a mean of 2 and a width of 3.\n"
   ]
  },
  {
   "cell_type": "code",
   "execution_count": null,
   "metadata": {
    "collapsed": false
   },
   "outputs": [],
   "source": []
  },
  {
   "cell_type": "markdown",
   "metadata": {},
   "source": [
    "Now go through the following tasks and make sure you understand them.\n",
    "\n",
    "Fit the histogram you just generated with a Gaussian.\n",
    "\n",
    "For documentation see https://root.cern.ch/root/htmldoc/guides/users-guide/ROOTUsersGuide.html#fitting-histograms\n",
    "\n",
    "Now generate a uniform distribution.\n",
    "\n",
    "See https://root.cern.ch/root/htmldoc/guides/users-guide/ROOTUsersGuide.html#grandom\n",
    "    \n",
    "Plot a the uniform and the original (centered at 0) gaussian distribution in the same histogram.\n",
    "\n",
    "Plot them in such a way that the statistical uncertainties are shown. Make the markers of the uniform distribution red and the markers of the gaussian distribution blue.\n",
    "\n",
    "Change the bin size of the histogram in such a way that the statistical uncertaintiea become smaller.\n",
    "\n",
    "Make a new histogram which is a sum of the uniform and gaussian distribution. Plot it.\n",
    "\n",
    "Reference: https://root.cern.ch/root/htmldoc/guides/users-guide/ROOTUsersGuide.html#histograms\n",
    "\n",
    "Make and plot a 2D histogram with a 2D gaussian distribution, where x and y are uncorrelated. What is the difference when you use the same random seed compared to different ones?\n",
    "\n",
    "Make and plot a 2D histogram where x and y are correlated with some correlation coefficient.\n",
    "\n",
    "Name the x-axis \"Height (cm)\" and the y-axis \"Weight (grams)\". Plot again.\n",
    "\n",
    "Draw the 2D histogram using the \"Surf\" option. \n",
    "\n",
    "Draw a projection of the 2D histogram on the x-axis. Make a projection on the y-axis.\n",
    "\n",
    "Make a new histogram with an exponential distribution with tau = 2. Display the statistical uncertainties in each bin.\n",
    "\n",
    "Plot it with the y-axis on logscale. \n",
    "\n",
    "Fit an exponential to the distribution. Do you get back the tau you put in?\n",
    "\n",
    "Label the x-axis \"Life-time (ns)\".\n",
    "\n",
    "\n",
    "Simple hit-or-miss generator\n",
    "\n",
    "Read for example section 2.3 here: http://www.physik.uzh.ch/~andreasp/mc/mchowto.pdf .\n",
    "\n"
   ]
  },
  {
   "cell_type": "markdown",
   "metadata": {},
   "source": [
    "Something about vectors..."
   ]
  },
  {
   "cell_type": "markdown",
   "metadata": {},
   "source": [
    "Something about browsers..."
   ]
  },
  {
   "cell_type": "markdown",
   "metadata": {},
   "source": [
    "Something about trees..."
   ]
  },
  {
   "cell_type": "markdown",
   "metadata": {},
   "source": [
    "Consider the following generator:"
   ]
  },
  {
   "cell_type": "code",
   "execution_count": 4,
   "metadata": {
    "collapsed": false
   },
   "outputs": [
    {
     "data": {
      "image/png": "[encoded data removed]",
      "text/plain": [
       "<IPython.core.display.Image object>"
      ]
     },
     "metadata": {},
     "output_type": "display_data"
    }
   ],
   "source": [
    "Int_t nevt=10000, nbin=100, i=0, j=0;\n",
    "\n",
    "  TH1D *hTheta = new TH1D(\"hTheta\",\"Lambda costh CM distribution\", nbin, -1.0, 1.0);\n",
    "\n",
    "  Double_t randnum1[10000];  //random number array\n",
    "  Double_t randnum2[10000];  //random number array\n",
    "  Double_t mlam=1.115683; //hyperon mass\n",
    "  Double_t cms=2.396;  //centre of mass energy\n",
    "  Double_t r=2; // ratio between G_E and G_M\n",
    "  Double_t tau=cms*cms/(4.*mlam*mlam); //phase space factor\n",
    "  Double_t costh=0.; //initializing variables\n",
    "  gRandom= new TRandom3(0);\n",
    "\n",
    "  gRandom->RndmArray(10000, randnum1);  //generate random numbers uniformly between 0 and 1\n",
    "  gRandom->RndmArray(10000, randnum2);  //generate random numbers uniformly between 0 and 1\n",
    "  //Now go through all random numbers one by one\n",
    "  while(i<nevt)\n",
    "    {\n",
    "      costh=-1.+2.*randnum1[j]; //the random numbers interval is shifted to between -1 and 1\n",
    "      Double_t dsdcosth=1+costh*costh+4*r*r*mlam*mlam/(cms*cms)*(1-costh*costh);   //calculating the angular distribution factor\n",
    "      Double_t upperlim=2.+4*r*r*mlam*mlam/(cms*cms);  //calculating the upper limit\n",
    "\n",
    "      if(randnum2[j]<dsdcosth/upperlim)   //hit-or-miss criterion\n",
    "\t{\n",
    "\n",
    "\t  hTheta->Fill(costh);  //fill histogram\n",
    "\t  i=i+1;\n",
    "\t}\n",
    "\n",
    "      j=j+1;\n",
    "    }\n",
    "\n",
    "TCanvas *can1 = new TCanvas();\n",
    "hTheta->Draw();   //Draw histogram\n",
    "can1->Draw();"
   ]
  },
  {
   "cell_type": "code",
   "execution_count": null,
   "metadata": {
    "collapsed": true
   },
   "outputs": [],
   "source": []
  },
  {
   "cell_type": "markdown",
   "metadata": {},
   "source": [
    "Fit a 2nd degree polynomial to the distribution, describing the angular distribution in terms of the ratio of the electromagnetic from factors.\n",
    "    \n",
    "What value of R can you deduce from the fit? What is the uncertainty?\n",
    "\n",
    "Using the code above as a basis, you can calculate R using the Method of Moments (Reference: ask your supervisor for a note). Calculate the uncertainty in R.\n",
    "\n",
    "Is the output R the same as the R you put in? If not, is it within the uncertainty?\n",
    "\n",
    "If you rerun the program, do you then get the same value of the output R?\n",
    "    \n",
    "What is the uncertainty of R for 1000 events? 500? 200? 100? If you run the program a couple of times, what is the difference in the value of R?\n",
    "    \n",
    "What is the uncertainty of R if you have 1300 events and if R = 0.75?\n",
    "    \n",
    "Make the same exercise for Sigma0 and Sigma+ .\n",
    "    "
   ]
  },
  {
   "cell_type": "code",
   "execution_count": null,
   "metadata": {
    "collapsed": false
   },
   "outputs": [],
   "source": []
  }
 ],
 "metadata": {
  "kernelspec": {
   "display_name": "ROOT C++",
   "language": "c++",
   "name": "root"
  },
  "language_info": {
   "codemirror_mode": "text/x-c++src",
   "file_extension": ".C",
   "mimetype": " text/x-c++src",
   "name": "c++"
  }
 },
 "nbformat": 4,
 "nbformat_minor": 2
}
